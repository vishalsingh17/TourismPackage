{
 "cells": [
  {
   "cell_type": "markdown",
   "id": "489b6ded",
   "metadata": {},
   "source": [
    "![image info](https://ineuron.ai/images/ineuron-logo.png)"
   ]
  },
  {
   "cell_type": "markdown",
   "id": "4437a980",
   "metadata": {},
   "source": [
    "# Data Pre-Processing"
   ]
  },
  {
   "cell_type": "markdown",
   "id": "74b4d7e0",
   "metadata": {},
   "source": [
    "#### Import Packages and CSV"
   ]
  },
  {
   "cell_type": "code",
   "execution_count": 4,
   "id": "5530cc59",
   "metadata": {},
   "outputs": [
    {
     "name": "stdout",
     "output_type": "stream",
     "text": [
      "(4888, 20)\n"
     ]
    }
   ],
   "source": [
    "import pandas as pd\n",
    "import numpy as np\n",
    "import matplotlib.pyplot as plt\n",
    "import seaborn as sns\n",
    "import warnings\n",
    "\n",
    "warnings.filterwarnings(\"ignore\")\n",
    "pd.pandas.set_option(\"display.max_columns\", None)\n",
    "# Create Dataframe\n",
    "df = pd.read_csv(\"Travel.csv\")\n",
    "\n",
    "# Print shape of dataset\n",
    "print(df.shape)"
   ]
  },
  {
   "cell_type": "markdown",
   "id": "c27265bd",
   "metadata": {},
   "source": [
    "## Data Cleaning"
   ]
  },
  {
   "cell_type": "markdown",
   "id": "42e57c03",
   "metadata": {},
   "source": [
    "#### Check Spelling mistake"
   ]
  },
  {
   "cell_type": "code",
   "execution_count": 5,
   "id": "95ecda78",
   "metadata": {},
   "outputs": [],
   "source": [
    "df[\"Gender\"] = df[\"Gender\"].replace(\"Fe Male\", \"Female\")"
   ]
  },
  {
   "cell_type": "markdown",
   "id": "40b4a428",
   "metadata": {},
   "source": [
    "#### Check Null Values"
   ]
  },
  {
   "cell_type": "code",
   "execution_count": 6,
   "id": "2b94aa8f",
   "metadata": {},
   "outputs": [
    {
     "name": "stdout",
     "output_type": "stream",
     "text": [
      "Age 4.62357 % missing values\n",
      "TypeofContact 0.51146 % missing values\n",
      "DurationOfPitch 5.13502 % missing values\n",
      "NumberOfFollowups 0.92062 % missing values\n",
      "PreferredPropertyStar 0.53191 % missing values\n",
      "NumberOfTrips 2.86416 % missing values\n",
      "NumberOfChildrenVisiting 1.35025 % missing values\n",
      "MonthlyIncome 4.76678 % missing values\n"
     ]
    }
   ],
   "source": [
    "##these are the features with nan value\n",
    "features_with_na = [\n",
    "    features for features in df.columns if df[features].isnull().sum() >= 1\n",
    "]\n",
    "for feature in features_with_na:\n",
    "    print(feature, np.round(df[feature].isnull().mean() * 100, 5), \"% missing values\")"
   ]
  },
  {
   "cell_type": "markdown",
   "id": "b35c055d",
   "metadata": {},
   "source": [
    "**What does NaN mean?**\n",
    "\n",
    "**Ans:** Missing Values in a DataFrame\n",
    "\n",
    "**Why might a value be missing?** \n",
    "\n",
    "**Ans:** When considering the potential impact of the missing data on the Dataset, it is important to consider the underlying reasons for why the data are missing\n",
    "Missing data are of three categories:\n",
    "* Missing completely at random (MCAR)\n",
    "* Missing at random (MAR).\n",
    "* Missing not at random (MNAR). \n",
    "\n",
    "Here it is MCAR type of missing values in dataset which are Missing completely at Random. \n",
    "\n",
    "When we make this assumption, we are assuming the missing data is completely unrelated to the other information in the data."
   ]
  },
  {
   "cell_type": "code",
   "execution_count": 7,
   "id": "c99c952e",
   "metadata": {},
   "outputs": [
    {
     "data": {
      "text/html": [
       "<div>\n",
       "<style scoped>\n",
       "    .dataframe tbody tr th:only-of-type {\n",
       "        vertical-align: middle;\n",
       "    }\n",
       "\n",
       "    .dataframe tbody tr th {\n",
       "        vertical-align: top;\n",
       "    }\n",
       "\n",
       "    .dataframe thead th {\n",
       "        text-align: right;\n",
       "    }\n",
       "</style>\n",
       "<table border=\"1\" class=\"dataframe\">\n",
       "  <thead>\n",
       "    <tr style=\"text-align: right;\">\n",
       "      <th></th>\n",
       "      <th>Age</th>\n",
       "      <th>DurationOfPitch</th>\n",
       "      <th>NumberOfFollowups</th>\n",
       "      <th>PreferredPropertyStar</th>\n",
       "      <th>NumberOfTrips</th>\n",
       "      <th>NumberOfChildrenVisiting</th>\n",
       "      <th>MonthlyIncome</th>\n",
       "    </tr>\n",
       "  </thead>\n",
       "  <tbody>\n",
       "    <tr>\n",
       "      <th>count</th>\n",
       "      <td>4662.000000</td>\n",
       "      <td>4637.000000</td>\n",
       "      <td>4843.000000</td>\n",
       "      <td>4862.000000</td>\n",
       "      <td>4748.000000</td>\n",
       "      <td>4822.000000</td>\n",
       "      <td>4655.000000</td>\n",
       "    </tr>\n",
       "    <tr>\n",
       "      <th>mean</th>\n",
       "      <td>37.622265</td>\n",
       "      <td>15.490835</td>\n",
       "      <td>3.708445</td>\n",
       "      <td>3.581037</td>\n",
       "      <td>3.236521</td>\n",
       "      <td>1.187267</td>\n",
       "      <td>23619.853491</td>\n",
       "    </tr>\n",
       "    <tr>\n",
       "      <th>std</th>\n",
       "      <td>9.316387</td>\n",
       "      <td>8.519643</td>\n",
       "      <td>1.002509</td>\n",
       "      <td>0.798009</td>\n",
       "      <td>1.849019</td>\n",
       "      <td>0.857861</td>\n",
       "      <td>5380.698361</td>\n",
       "    </tr>\n",
       "    <tr>\n",
       "      <th>min</th>\n",
       "      <td>18.000000</td>\n",
       "      <td>5.000000</td>\n",
       "      <td>1.000000</td>\n",
       "      <td>3.000000</td>\n",
       "      <td>1.000000</td>\n",
       "      <td>0.000000</td>\n",
       "      <td>1000.000000</td>\n",
       "    </tr>\n",
       "    <tr>\n",
       "      <th>25%</th>\n",
       "      <td>31.000000</td>\n",
       "      <td>9.000000</td>\n",
       "      <td>3.000000</td>\n",
       "      <td>3.000000</td>\n",
       "      <td>2.000000</td>\n",
       "      <td>1.000000</td>\n",
       "      <td>20346.000000</td>\n",
       "    </tr>\n",
       "    <tr>\n",
       "      <th>50%</th>\n",
       "      <td>36.000000</td>\n",
       "      <td>13.000000</td>\n",
       "      <td>4.000000</td>\n",
       "      <td>3.000000</td>\n",
       "      <td>3.000000</td>\n",
       "      <td>1.000000</td>\n",
       "      <td>22347.000000</td>\n",
       "    </tr>\n",
       "    <tr>\n",
       "      <th>75%</th>\n",
       "      <td>44.000000</td>\n",
       "      <td>20.000000</td>\n",
       "      <td>4.000000</td>\n",
       "      <td>4.000000</td>\n",
       "      <td>4.000000</td>\n",
       "      <td>2.000000</td>\n",
       "      <td>25571.000000</td>\n",
       "    </tr>\n",
       "    <tr>\n",
       "      <th>max</th>\n",
       "      <td>61.000000</td>\n",
       "      <td>127.000000</td>\n",
       "      <td>6.000000</td>\n",
       "      <td>5.000000</td>\n",
       "      <td>22.000000</td>\n",
       "      <td>3.000000</td>\n",
       "      <td>98678.000000</td>\n",
       "    </tr>\n",
       "  </tbody>\n",
       "</table>\n",
       "</div>"
      ],
      "text/plain": [
       "               Age  DurationOfPitch  NumberOfFollowups  PreferredPropertyStar  \\\n",
       "count  4662.000000      4637.000000        4843.000000            4862.000000   \n",
       "mean     37.622265        15.490835           3.708445               3.581037   \n",
       "std       9.316387         8.519643           1.002509               0.798009   \n",
       "min      18.000000         5.000000           1.000000               3.000000   \n",
       "25%      31.000000         9.000000           3.000000               3.000000   \n",
       "50%      36.000000        13.000000           4.000000               3.000000   \n",
       "75%      44.000000        20.000000           4.000000               4.000000   \n",
       "max      61.000000       127.000000           6.000000               5.000000   \n",
       "\n",
       "       NumberOfTrips  NumberOfChildrenVisiting  MonthlyIncome  \n",
       "count    4748.000000               4822.000000    4655.000000  \n",
       "mean        3.236521                  1.187267   23619.853491  \n",
       "std         1.849019                  0.857861    5380.698361  \n",
       "min         1.000000                  0.000000    1000.000000  \n",
       "25%         2.000000                  1.000000   20346.000000  \n",
       "50%         3.000000                  1.000000   22347.000000  \n",
       "75%         4.000000                  2.000000   25571.000000  \n",
       "max        22.000000                  3.000000   98678.000000  "
      ]
     },
     "execution_count": 7,
     "metadata": {},
     "output_type": "execute_result"
    }
   ],
   "source": [
    "# statistics on numerical columns (Null cols)\n",
    "df[features_with_na].select_dtypes(exclude=\"object\").describe()"
   ]
  },
  {
   "cell_type": "markdown",
   "id": "76eafe12",
   "metadata": {},
   "source": [
    "### 3.2 Other Data Cleaning steps"
   ]
  },
  {
   "cell_type": "markdown",
   "id": "471fd48f",
   "metadata": {},
   "source": [
    "**Handling Duplicates**"
   ]
  },
  {
   "cell_type": "code",
   "execution_count": 8,
   "id": "d8fa17e0",
   "metadata": {},
   "outputs": [
    {
     "data": {
      "text/plain": [
       "0"
      ]
     },
     "execution_count": 8,
     "metadata": {},
     "output_type": "execute_result"
    }
   ],
   "source": [
    "df.duplicated().sum()"
   ]
  },
  {
   "cell_type": "markdown",
   "id": "5cf6d275",
   "metadata": {},
   "source": [
    "**Remove Customer ID from the dataset as it cannot used in Model Training**"
   ]
  },
  {
   "cell_type": "code",
   "execution_count": 9,
   "id": "828c0a89",
   "metadata": {},
   "outputs": [],
   "source": [
    "df.drop(\"CustomerID\", inplace=True, axis=1)"
   ]
  },
  {
   "cell_type": "markdown",
   "id": "6d48a184",
   "metadata": {},
   "source": [
    "# Feature Engineering"
   ]
  },
  {
   "cell_type": "markdown",
   "id": "66542de1",
   "metadata": {},
   "source": [
    "### Type of Features"
   ]
  },
  {
   "cell_type": "markdown",
   "id": "85df52e5",
   "metadata": {},
   "source": [
    "**Numeric Features**"
   ]
  },
  {
   "cell_type": "code",
   "execution_count": 10,
   "id": "baff199f",
   "metadata": {},
   "outputs": [
    {
     "name": "stdout",
     "output_type": "stream",
     "text": [
      "Num of Numerical Features : 13\n"
     ]
    }
   ],
   "source": [
    "numeric_features = [feature for feature in df.columns if df[feature].dtype != \"O\"]\n",
    "print(\"Num of Numerical Features :\", len(numeric_features))"
   ]
  },
  {
   "cell_type": "markdown",
   "id": "e1107060",
   "metadata": {},
   "source": [
    "**Categorical Features**"
   ]
  },
  {
   "cell_type": "code",
   "execution_count": 69,
   "id": "ff997805",
   "metadata": {},
   "outputs": [
    {
     "name": "stdout",
     "output_type": "stream",
     "text": [
      "Num of Categorical Features : 6\n",
      "All the categorical feature column name: ['TypeofContact', 'Occupation', 'Gender', 'ProductPitched', 'MaritalStatus', 'Designation']\n"
     ]
    }
   ],
   "source": [
    "categorical_features = [feature for feature in df.columns if df[feature].dtype == \"O\"]\n",
    "print(\"Num of Categorical Features :\", len(categorical_features))\n",
    "print(\"All the categorical feature column name:\", categorical_features)"
   ]
  },
  {
   "cell_type": "markdown",
   "id": "3ca43676",
   "metadata": {},
   "source": [
    "**Discrete Features**"
   ]
  },
  {
   "cell_type": "code",
   "execution_count": 74,
   "id": "812ee6e0",
   "metadata": {},
   "outputs": [
    {
     "name": "stdout",
     "output_type": "stream",
     "text": [
      "Num of Discrete Features : 10\n",
      "All the discrete feature column name: ['ProdTaken', 'CityTier', 'NumberOfPersonVisiting', 'NumberOfFollowups', 'PreferredPropertyStar', 'NumberOfTrips', 'Passport', 'PitchSatisfactionScore', 'OwnCar', 'NumberOfChildrenVisiting']\n"
     ]
    }
   ],
   "source": [
    "discrete_features = [\n",
    "    feature for feature in numeric_features if (len(df[feature].unique()) <= 25)\n",
    "]\n",
    "print(\"Num of Discrete Features :\", len(discrete_features))\n",
    "print(\"All the discrete feature column name:\", discrete_features)\n"
   ]
  },
  {
   "cell_type": "markdown",
   "id": "3e6740bf",
   "metadata": {},
   "source": [
    "**Continuous features**"
   ]
  },
  {
   "cell_type": "code",
   "execution_count": 71,
   "id": "e501c72b",
   "metadata": {},
   "outputs": [
    {
     "name": "stdout",
     "output_type": "stream",
     "text": [
      "Num of Continuous Features : 3\n",
      "All the continuous feature column name: ['Age', 'DurationOfPitch', 'MonthlyIncome']\n"
     ]
    }
   ],
   "source": [
    "continuous_features = [\n",
    "    feature for feature in numeric_features if len(df[feature].unique()) > 25\n",
    "]\n",
    "print(\"Num of Continuous Features :\", len(continuous_features))\n",
    "print(\"All the continuous feature column name:\", continuous_features)"
   ]
  },
  {
   "cell_type": "markdown",
   "id": "c1dedda3",
   "metadata": {},
   "source": [
    "**Imputing Null Values to Check VIF(Multi-Collinearity)**"
   ]
  },
  {
   "cell_type": "code",
   "execution_count": 14,
   "id": "0d745af3",
   "metadata": {},
   "outputs": [],
   "source": [
    "df1 = df.copy()\n",
    "for i in continuous_features:\n",
    "    df1[i].fillna(df1[i].median(), inplace=True)"
   ]
  },
  {
   "cell_type": "markdown",
   "id": "7a9c40c8",
   "metadata": {},
   "source": [
    "### Multicollinearity Check\n",
    "#### Variance Inflation Factor (VIF)"
   ]
  },
  {
   "cell_type": "markdown",
   "id": "bcc04f4d",
   "metadata": {},
   "source": [
    "* Multicollinearity occurs when there are two or more independent variables in a multiple regression model, which have a high correlation among themselves. When some features are highly correlated.\n",
    "* Multicollinearity can be detected using various techniques, one such technique being the Variance Inflation Factor(VIF)."
   ]
  },
  {
   "cell_type": "code",
   "execution_count": 15,
   "id": "747d9a82",
   "metadata": {},
   "outputs": [],
   "source": [
    "from statsmodels.stats.outliers_influence import variance_inflation_factor\n",
    "\n",
    "\n",
    "def compute_vif(considered_features, df):\n",
    "\n",
    "    X = df[considered_features]\n",
    "    # the calculation of variance inflation requires a constant\n",
    "    X[\"intercept\"] = 1\n",
    "\n",
    "    # create dataframe to store vif values\n",
    "    vif = pd.DataFrame()\n",
    "    vif[\"Variable\"] = X.columns\n",
    "    vif[\"VIF\"] = [variance_inflation_factor(X.values, i) for i in range(X.shape[1])]\n",
    "    vif = vif[vif[\"Variable\"] != \"intercept\"]\n",
    "    return vif"
   ]
  },
  {
   "cell_type": "code",
   "execution_count": 16,
   "id": "a9509481",
   "metadata": {},
   "outputs": [
    {
     "data": {
      "text/html": [
       "<div>\n",
       "<style scoped>\n",
       "    .dataframe tbody tr th:only-of-type {\n",
       "        vertical-align: middle;\n",
       "    }\n",
       "\n",
       "    .dataframe tbody tr th {\n",
       "        vertical-align: top;\n",
       "    }\n",
       "\n",
       "    .dataframe thead th {\n",
       "        text-align: right;\n",
       "    }\n",
       "</style>\n",
       "<table border=\"1\" class=\"dataframe\">\n",
       "  <thead>\n",
       "    <tr style=\"text-align: right;\">\n",
       "      <th></th>\n",
       "      <th>Variable</th>\n",
       "      <th>VIF</th>\n",
       "    </tr>\n",
       "  </thead>\n",
       "  <tbody>\n",
       "    <tr>\n",
       "      <th>0</th>\n",
       "      <td>Age</td>\n",
       "      <td>1.270393</td>\n",
       "    </tr>\n",
       "    <tr>\n",
       "      <th>1</th>\n",
       "      <td>DurationOfPitch</td>\n",
       "      <td>1.000089</td>\n",
       "    </tr>\n",
       "    <tr>\n",
       "      <th>2</th>\n",
       "      <td>MonthlyIncome</td>\n",
       "      <td>1.270357</td>\n",
       "    </tr>\n",
       "  </tbody>\n",
       "</table>\n",
       "</div>"
      ],
      "text/plain": [
       "          Variable       VIF\n",
       "0              Age  1.270393\n",
       "1  DurationOfPitch  1.000089\n",
       "2    MonthlyIncome  1.270357"
      ]
     },
     "execution_count": 16,
     "metadata": {},
     "output_type": "execute_result"
    }
   ],
   "source": [
    "compute_vif(continuous_features, df1)"
   ]
  },
  {
   "cell_type": "markdown",
   "id": "482cfb4c",
   "metadata": {},
   "source": [
    " ” VIF determines the strength of the correlation between the independent variables. It is predicted by taking a variable and regressing it against every other variable “ \n",
    "\n",
    "VIF above 5 is indicator of MultiCollinearity  \n",
    " \n",
    "**- This Dataset Doesnt have any MultiCollinearity**"
   ]
  },
  {
   "cell_type": "markdown",
   "id": "d234a954",
   "metadata": {},
   "source": [
    "### Check Outlier and Capping it"
   ]
  },
  {
   "cell_type": "markdown",
   "id": "29b1ab3b",
   "metadata": {},
   "source": [
    "**Why outliers?**\n",
    "* Data Entry error : Human error. \n",
    "* Measurement error: Instrument error. \n",
    "* Natural error: it will be Real life data.\n",
    "* Intentional error: People give wrong inputs\n",
    "\n",
    "**Impact of Outliers ?**\n",
    "* Ouliers can very high impact on few Machine learning models.\n",
    "* Can Cause bias in the output."
   ]
  },
  {
   "cell_type": "code",
   "execution_count": 17,
   "id": "8e580ec1",
   "metadata": {},
   "outputs": [
    {
     "data": {
      "image/png": "[encoded data removed]",
      "text/plain": [
       "<Figure size 1000x600 with 1 Axes>"
      ]
     },
     "metadata": {},
     "output_type": "display_data"
    },
    {
     "data": {
      "image/png": "[encoded data removed]",
      "text/plain": [
       "<Figure size 1000x600 with 1 Axes>"
      ]
     },
     "metadata": {},
     "output_type": "display_data"
    },
    {
     "data": {
      "image/png": "[encoded data removed]",
      "text/plain": [
       "<Figure size 1000x600 with 1 Axes>"
      ]
     },
     "metadata": {},
     "output_type": "display_data"
    }
   ],
   "source": [
    "for i in continuous_features:\n",
    "    plt.figure(figsize=(10, 6))\n",
    "    sns.set_style(\"ticks\")\n",
    "    ax = sns.boxplot(df[i])"
   ]
  },
  {
   "cell_type": "markdown",
   "id": "b2c78731",
   "metadata": {},
   "source": [
    "**Why Z score For Outlier Handling?**"
   ]
  },
  {
   "cell_type": "code",
   "execution_count": 18,
   "id": "45fedab7",
   "metadata": {},
   "outputs": [],
   "source": [
    "def outlier_removal(column, df):\n",
    "    upper_limit = df[column].mean() + 3 * df[column].std()\n",
    "    lower_limit = df[column].mean() - 3 * df[column].std()\n",
    "    df = df[(df[column] < upper_limit) & (df[column] > lower_limit)]\n",
    "    return df"
   ]
  },
  {
   "cell_type": "code",
   "execution_count": 19,
   "id": "c233b8ff",
   "metadata": {},
   "outputs": [
    {
     "data": {
      "text/plain": [
       "(4888, 19)"
      ]
     },
     "execution_count": 19,
     "metadata": {},
     "output_type": "execute_result"
    }
   ],
   "source": [
    "df.shape"
   ]
  },
  {
   "cell_type": "code",
   "execution_count": 20,
   "id": "b43d27bf",
   "metadata": {},
   "outputs": [],
   "source": [
    "outlier_feature = [\"DurationOfPitch\", \"MonthlyIncome\"]"
   ]
  },
  {
   "cell_type": "code",
   "execution_count": 21,
   "id": "03a89ff1",
   "metadata": {},
   "outputs": [],
   "source": [
    "for i in range(len(outlier_feature)):\n",
    "    df1 = outlier_removal(outlier_feature[i], df1)"
   ]
  },
  {
   "cell_type": "code",
   "execution_count": 22,
   "id": "de1cf3a9",
   "metadata": {
    "scrolled": false
   },
   "outputs": [
    {
     "data": {
      "image/png": "[encoded data removed]",
      "text/plain": [
       "<Figure size 1000x600 with 1 Axes>"
      ]
     },
     "metadata": {},
     "output_type": "display_data"
    },
    {
     "data": {
      "image/png": "[encoded data removed]",
      "text/plain": [
       "<Figure size 1000x600 with 1 Axes>"
      ]
     },
     "metadata": {},
     "output_type": "display_data"
    },
    {
     "data": {
      "image/png": "[encoded data removed]",
      "text/plain": [
       "<Figure size 1000x600 with 1 Axes>"
      ]
     },
     "metadata": {},
     "output_type": "display_data"
    }
   ],
   "source": [
    "for i in continuous_features:\n",
    "    plt.figure(figsize=(10, 6))\n",
    "    sns.set_style(\"ticks\")\n",
    "    ax = sns.boxplot(df1[i])"
   ]
  },
  {
   "cell_type": "markdown",
   "id": "ca2d817d",
   "metadata": {},
   "source": [
    "## Feature Transformation"
   ]
  },
  {
   "cell_type": "code",
   "execution_count": 23,
   "id": "a9d716af",
   "metadata": {},
   "outputs": [
    {
     "data": {
      "text/plain": [
       "Age                0.382989\n",
       "DurationOfPitch    1.752037\n",
       "MonthlyIncome      1.949160\n",
       "dtype: float64"
      ]
     },
     "execution_count": 23,
     "metadata": {},
     "output_type": "execute_result"
    }
   ],
   "source": [
    "df[continuous_features].skew(axis=0)"
   ]
  },
  {
   "cell_type": "markdown",
   "id": "1786c0ad",
   "metadata": {},
   "source": [
    "* **If Skewness is above 2 then the feature is Highly skewed**\n",
    "* **If Skewness is above 1.5 then the feature is Moderately skewed**"
   ]
  },
  {
   "cell_type": "code",
   "execution_count": 24,
   "id": "a921c3a0",
   "metadata": {
    "scrolled": false
   },
   "outputs": [
    {
     "data": {
      "image/png": "[encoded data removed]",
      "text/plain": [
       "<Figure size 1200x600 with 3 Axes>"
      ]
     },
     "metadata": {},
     "output_type": "display_data"
    }
   ],
   "source": [
    "# distribution of data before scaling\n",
    "plt.figure(figsize=(12, 6))\n",
    "for i, col in enumerate([\"Age\", \"DurationOfPitch\", \"MonthlyIncome\"]):\n",
    "    plt.subplot(2, 2, i + 1)\n",
    "    sns.kdeplot(x=df1[col], color=\"indianred\")\n",
    "    plt.xlabel(col)\n",
    "    plt.tight_layout()"
   ]
  },
  {
   "cell_type": "markdown",
   "id": "e956e76d",
   "metadata": {},
   "source": [
    "- **Here Monthly income and DurationOfPitch are skewed**\n",
    "- **Age is normally distributed**"
   ]
  },
  {
   "cell_type": "markdown",
   "id": "5a2cf140",
   "metadata": {},
   "source": [
    "### Split X and Y"
   ]
  },
  {
   "cell_type": "code",
   "execution_count": 25,
   "id": "606bd5ec",
   "metadata": {},
   "outputs": [],
   "source": [
    "from sklearn.model_selection import train_test_split\n",
    "\n",
    "X = df.drop([\"ProdTaken\"], axis=1)\n",
    "y = df[\"ProdTaken\"]"
   ]
  },
  {
   "cell_type": "markdown",
   "id": "9455c01a",
   "metadata": {},
   "source": [
    "* **Split Dataframe to X and y**\n",
    "* **Here we set a variable X i.e, independent columns, and a variable y i.e, dependent column as the “ProdTaken” column.**\n"
   ]
  },
  {
   "cell_type": "code",
   "execution_count": 26,
   "id": "00e06fc4",
   "metadata": {},
   "outputs": [
    {
     "name": "stdout",
     "output_type": "stream",
     "text": [
      "TypeofContact : 2\n",
      "Occupation : 4\n",
      "Gender : 2\n",
      "ProductPitched : 5\n",
      "MaritalStatus : 4\n",
      "Designation : 5\n"
     ]
    }
   ],
   "source": [
    "for feature in categorical_features:\n",
    "    print(feature, \":\", X[feature].nunique())"
   ]
  },
  {
   "cell_type": "markdown",
   "id": "51a3853d",
   "metadata": {},
   "source": [
    "## Feature Encoding and Scaling"
   ]
  },
  {
   "cell_type": "markdown",
   "id": "29dbaf2d",
   "metadata": {},
   "source": [
    " **One Hot Encoding for Columns which had lesser unique values and not ordinal**\n",
    "* One hot encoding is a process by which categorical variables are converted into a form that could be provided to ML algorithms to do a better job in prediction."
   ]
  },
  {
   "cell_type": "code",
   "execution_count": 27,
   "id": "d0353dca",
   "metadata": {},
   "outputs": [
    {
     "name": "stdout",
     "output_type": "stream",
     "text": [
      "Age: mean = 37.62, median = 36.00\n",
      "DurationOfPitch: mean = 15.49, median = 13.00\n",
      "MonthlyIncome: mean = 23619.85, median = 22347.00\n"
     ]
    }
   ],
   "source": [
    "for i in continuous_features:\n",
    "    print(f\"{i}: mean = {df[i].mean():.2f}, median = {df[i].median():.2f}\")"
   ]
  },
  {
   "cell_type": "markdown",
   "id": "1c240cad",
   "metadata": {},
   "source": [
    "* **Mean imputer:**\n",
    " - It replaces the missing value with the mean of the respected features excluding null values.\n",
    " - Since we handeled outlier for the continuous features the mean and median of the features are nearly same. When there are no outliers mean performs an a better imputer.\n",
    "* **Mode imputer:**\n",
    " - It replaces the missing values with the mode/most frequent/most repeated values.\n",
    " - For discrete features we use mode as imputer.\n",
    "* **Standardscaler:**\n",
    " - It is a scaling technique based on the standard normal distribution. which uses $ \\frac{(x - \\mu)} {\\sigma} $ to scale. it scales down such that all the data points will lied between $ 3 \\sigma $ of the features distribution. It performes well when the data is normally distributed.\n",
    " - As the features distribution are nearly normal we use standard scaler.\n",
    "* **Power Transformer:**\n",
    " - It is applied to make data more like a guassian distribution.\n",
    " - Since Monthly income and DurationOfPitch are skewed we use Power Transformer on them"
   ]
  },
  {
   "cell_type": "code",
   "execution_count": 28,
   "id": "348ccd3f",
   "metadata": {},
   "outputs": [],
   "source": [
    "# Create Column Transformer with 3 types of transformers\n",
    "cat_features = X.select_dtypes(include=\"object\").columns\n",
    "disc_feature = discrete_features.copy()\n",
    "disc_feature.remove(\"ProdTaken\")\n",
    "transform_features = [\"MonthlyIncome\", \"DurationOfPitch\"]\n",
    "\n",
    "\n",
    "from sklearn.preprocessing import OneHotEncoder, StandardScaler, PowerTransformer\n",
    "from sklearn.compose import ColumnTransformer\n",
    "from sklearn.pipeline import Pipeline\n",
    "from sklearn.impute import SimpleImputer\n",
    "\n",
    "discrete_pipeline = Pipeline(\n",
    "    steps=[\n",
    "        (\"imputer\", SimpleImputer(strategy=\"most_frequent\")),\n",
    "        (\"scaler\", StandardScaler()),\n",
    "    ]\n",
    ")\n",
    "\n",
    "continuous_pipeline = Pipeline(\n",
    "    steps=[(\"imputer\", SimpleImputer(strategy=\"mean\")), (\"scaler\", StandardScaler())]\n",
    ")\n",
    "\n",
    "cat_pipeline = Pipeline(\n",
    "    steps=[\n",
    "        (\"imputer\", SimpleImputer(strategy=\"most_frequent\")),\n",
    "        (\"one_hot_encoder\", OneHotEncoder()),\n",
    "        (\"scaler\", StandardScaler(with_mean=False)),\n",
    "    ]\n",
    ")\n",
    "\n",
    "transform_pipe = Pipeline(\n",
    "    steps=[\n",
    "        (\"imputer\", SimpleImputer(strategy=\"mean\")),\n",
    "        (\"transformer\", PowerTransformer(standardize=True)),\n",
    "    ]\n",
    ")\n",
    "\n",
    "preprocessor = ColumnTransformer(\n",
    "    [\n",
    "        (\"Discrete_Pipeline\", discrete_pipeline, disc_feature),\n",
    "        (\"Continuous_Pipeline\", continuous_pipeline, continuous_features),\n",
    "        (\"Categorical_Pipeline\", cat_pipeline, cat_features),\n",
    "        (\"Power_Transformation\", transform_pipe, transform_features),\n",
    "    ]\n",
    ")"
   ]
  },
  {
   "cell_type": "code",
   "execution_count": 29,
   "id": "c3b72d21",
   "metadata": {},
   "outputs": [
    {
     "data": {
      "text/plain": [
       "(4888, 18)"
      ]
     },
     "execution_count": 29,
     "metadata": {},
     "output_type": "execute_result"
    }
   ],
   "source": [
    "X.shape"
   ]
  },
  {
   "cell_type": "code",
   "execution_count": 30,
   "id": "073fea39",
   "metadata": {},
   "outputs": [],
   "source": [
    "X = preprocessor.fit_transform(X)"
   ]
  },
  {
   "cell_type": "markdown",
   "id": "b0cb1742",
   "metadata": {},
   "source": [
    "## Handling Imbalanced Dataset"
   ]
  },
  {
   "cell_type": "markdown",
   "id": "4110b6b4",
   "metadata": {},
   "source": [
    "* Handling Imbalanced Target Variable.\n",
    "* Synthetic Minority Oversampling Technique or SMOTE is another technique to oversample the minority class. Simply adding duplicate records of minority class often don’t add any new information to the model.\n",
    "\n",
    "* SMOTE is one of the famous oversampling techniques and is very effective in handling class imbalance. The idea is to combine SMOTE with some undersampling techniques (ENN, Tomek) to increase the effectiveness of handling the imbalanced class."
   ]
  },
  {
   "cell_type": "code",
   "execution_count": 32,
   "id": "fde0c1c7",
   "metadata": {},
   "outputs": [],
   "source": [
    "from imblearn.combine import SMOTETomek\n",
    "\n",
    "# Resampling the minority class. The strategy can be changed as required.\n",
    "smt = SMOTETomek(random_state=42, sampling_strategy=\"minority\")\n",
    "# Fit the model to generate the data.\n",
    "X_res, y_res = smt.fit_resample(X, y)"
   ]
  },
  {
   "cell_type": "markdown",
   "id": "d81b9eaa",
   "metadata": {},
   "source": [
    "## Model Selection\n",
    "* **Here should understand the Various Classification models with default values from these models we can choose top 4 with Highest Accuracy score and proceed with HyperParameter Tuning**"
   ]
  },
  {
   "cell_type": "markdown",
   "id": "91bcc975",
   "metadata": {},
   "source": [
    "## Train Test Split"
   ]
  },
  {
   "cell_type": "markdown",
   "id": "dbdad979",
   "metadata": {},
   "source": [
    "* The train-test split procedure is used to estimate the performance of machine learning algorithms when they are used to make predictions on data not used to train the model.\n",
    "\n",
    "* It is a fast and easy procedure to perform, the results of which allow you to compare the performance of machine learning algorithms."
   ]
  },
  {
   "cell_type": "markdown",
   "id": "8b9e9fab",
   "metadata": {},
   "source": [
    "**Import Required packages for model training**"
   ]
  },
  {
   "cell_type": "code",
   "execution_count": 35,
   "id": "d82663ae",
   "metadata": {},
   "outputs": [],
   "source": [
    "from sklearn.tree import DecisionTreeClassifier\n",
    "from sklearn.ensemble import (\n",
    "    RandomForestClassifier,\n",
    "    GradientBoostingClassifier,\n",
    "    AdaBoostClassifier,\n",
    ")\n",
    "from sklearn.linear_model import LogisticRegression\n",
    "from sklearn.neighbors import KNeighborsClassifier\n",
    "from sklearn.metrics import (\n",
    "    accuracy_score,\n",
    "    classification_report,\n",
    "    ConfusionMatrixDisplay,\n",
    "    precision_score,\n",
    "    recall_score,\n",
    "    f1_score,\n",
    "    roc_auc_score,\n",
    "    roc_curve,\n",
    ")\n",
    "from sklearn.svm import SVC\n",
    "from sklearn.tree import DecisionTreeClassifier\n",
    "from xgboost import XGBClassifier\n",
    "from catboost import CatBoostClassifier"
   ]
  },
  {
   "cell_type": "code",
   "execution_count": 36,
   "id": "294493fc",
   "metadata": {},
   "outputs": [],
   "source": [
    "def evaluate_clf(true, predicted):\n",
    "    acc = accuracy_score(true, predicted)  # Calculate Accuracy\n",
    "    f1 = f1_score(true, predicted)  # Calculate F1-score\n",
    "    precision = precision_score(true, predicted)  # Calculate Precision\n",
    "    recall = recall_score(true, predicted)  # Calculate Recall\n",
    "    roc_auc = roc_auc_score(true, predicted)  # Calculate Roc\n",
    "    return acc, f1, precision, recall, roc_auc"
   ]
  },
  {
   "cell_type": "code",
   "execution_count": 37,
   "id": "64be7b35",
   "metadata": {
    "scrolled": false
   },
   "outputs": [],
   "source": [
    "models = {\n",
    "    \"Random Forest\": RandomForestClassifier(),\n",
    "    \"Decision Tree\": DecisionTreeClassifier(),\n",
    "    \"Gradient Boosting\": GradientBoostingClassifier(),\n",
    "    \"Logistic Regression\": LogisticRegression(),\n",
    "    \"K-Neighbors Classifier\": KNeighborsClassifier(),\n",
    "    \"XGBClassifier\": XGBClassifier(),\n",
    "    \"CatBoosting Classifier\": CatBoostClassifier(verbose=False),\n",
    "    #      \"Support Vector Classifier\": SVC(),\n",
    "    \"AdaBoost Classifier\": AdaBoostClassifier(),\n",
    "}"
   ]
  },
  {
   "cell_type": "code",
   "execution_count": 49,
   "id": "160d97b1",
   "metadata": {},
   "outputs": [],
   "source": [
    "# Create a function which can evaluate models and return a report\n",
    "def evaluate_models(X, y, models):\n",
    "    \"\"\"\n",
    "    This function takes in X and y and models dictionary as input\n",
    "    It splits the data into Train Test split\n",
    "    Iterates through the given model dictionary and evaluates the metrics\n",
    "    Returns: Dataframe which contains report of all models metrics with cost\n",
    "    \"\"\"\n",
    "    # separate dataset into train and test\n",
    "    X_train, X_test, y_train, y_test = train_test_split(\n",
    "        X, y, test_size=0.2, random_state=42\n",
    "    )\n",
    "\n",
    "    models_list = []\n",
    "    accuracy_list = []\n",
    "\n",
    "    for i in range(len(list(models))):\n",
    "        model = list(models.values())[i]\n",
    "        model.fit(X_train, y_train)  # Train model\n",
    "\n",
    "        # Make predictions\n",
    "        y_train_pred = model.predict(X_train)\n",
    "        y_test_pred = model.predict(X_test)\n",
    "\n",
    "        # Training set performance\n",
    "        (\n",
    "            model_train_accuracy,\n",
    "            model_train_f1,\n",
    "            model_train_precision,\n",
    "            model_train_recall,\n",
    "            model_train_rocauc_score,\n",
    "        ) = evaluate_clf(y_train, y_train_pred)\n",
    "\n",
    "        # Test set performance\n",
    "        (\n",
    "            model_test_accuracy,\n",
    "            model_test_f1,\n",
    "            model_test_precision,\n",
    "            model_test_recall,\n",
    "            model_test_rocauc_score,\n",
    "        ) = evaluate_clf(y_test, y_test_pred)\n",
    "\n",
    "        print(list(models.keys())[i])\n",
    "        models_list.append(list(models.keys())[i])\n",
    "\n",
    "        print(\"Model performance for Training set\")\n",
    "        print(\"- Accuracy: {:.4f}\".format(model_train_accuracy))\n",
    "        print(\"- F1 score: {:.4f}\".format(model_train_f1))\n",
    "        print(\"- Precision: {:.4f}\".format(model_train_precision))\n",
    "        print(\"- Recall: {:.4f}\".format(model_train_recall))\n",
    "        print(\"- Roc Auc Score: {:.4f}\".format(model_train_rocauc_score))\n",
    "\n",
    "        print(\"----------------------------------\")\n",
    "\n",
    "        print(\"Model performance for Test set\")\n",
    "        print(\"- Accuracy: {:.4f}\".format(model_test_accuracy))\n",
    "        accuracy_list.append(model_test_accuracy)\n",
    "        print(\"- F1 score: {:.4f}\".format(model_test_f1))\n",
    "        print(\"- Precision: {:.4f}\".format(model_test_precision))\n",
    "        print(\"- Recall: {:.4f}\".format(model_test_recall))\n",
    "        print(\"- Roc Auc Score: {:.4f}\".format(model_test_rocauc_score))\n",
    "        print(\"=\" * 35)\n",
    "        print(\"\\n\")\n",
    "\n",
    "    report = pd.DataFrame(\n",
    "        list(zip(models_list, accuracy_list)), columns=[\"Model Name\", \"Accuracy\"]\n",
    "    ).sort_values(by=[\"Accuracy\"], ascending=False)\n",
    "\n",
    "    return report"
   ]
  },
  {
   "cell_type": "markdown",
   "id": "aaa19227",
   "metadata": {},
   "source": [
    "## Evaluate all base Models"
   ]
  },
  {
   "cell_type": "code",
   "execution_count": 39,
   "id": "b7ef5afc",
   "metadata": {
    "scrolled": false
   },
   "outputs": [
    {
     "name": "stdout",
     "output_type": "stream",
     "text": [
      "Random Forest\n",
      "Model performance for Training set\n",
      "- Accuracy: 1.0000\n",
      "- F1 score: 1.0000\n",
      "- Precision: 1.0000\n",
      "- Recall: 1.0000\n",
      "- Roc Auc Score: 1.0000\n",
      "----------------------------------\n",
      "Model performance for Test set\n",
      "- Accuracy: 0.9710\n",
      "- F1 score: 0.9706\n",
      "- Precision: 0.9656\n",
      "- Recall: 0.9756\n",
      "- Roc Auc Score: 0.9711\n",
      "===================================\n",
      "\n",
      "\n",
      "Decision Tree\n",
      "Model performance for Training set\n",
      "- Accuracy: 1.0000\n",
      "- F1 score: 1.0000\n",
      "- Precision: 1.0000\n",
      "- Recall: 1.0000\n",
      "- Roc Auc Score: 1.0000\n",
      "----------------------------------\n",
      "Model performance for Test set\n",
      "- Accuracy: 0.9244\n",
      "- F1 score: 0.9234\n",
      "- Precision: 0.9175\n",
      "- Recall: 0.9293\n",
      "- Roc Auc Score: 0.9245\n",
      "===================================\n",
      "\n",
      "\n",
      "Gradient Boosting\n",
      "Model performance for Training set\n",
      "- Accuracy: 0.9160\n",
      "- F1 score: 0.9134\n",
      "- Precision: 0.9478\n",
      "- Recall: 0.8815\n",
      "- Roc Auc Score: 0.9162\n",
      "----------------------------------\n",
      "Model performance for Test set\n",
      "- Accuracy: 0.9037\n",
      "- F1 score: 0.8982\n",
      "- Precision: 0.9310\n",
      "- Recall: 0.8676\n",
      "- Roc Auc Score: 0.9029\n",
      "===================================\n",
      "\n",
      "\n",
      "Logistic Regression\n",
      "Model performance for Training set\n",
      "- Accuracy: 0.7484\n",
      "- F1 score: 0.7492\n",
      "- Precision: 0.7507\n",
      "- Recall: 0.7476\n",
      "- Roc Auc Score: 0.7484\n",
      "----------------------------------\n",
      "Model performance for Test set\n",
      "- Accuracy: 0.7487\n",
      "- F1 score: 0.7479\n",
      "- Precision: 0.7354\n",
      "- Recall: 0.7609\n",
      "- Roc Auc Score: 0.7490\n",
      "===================================\n",
      "\n",
      "\n",
      "K-Neighbors Classifier\n",
      "Model performance for Training set\n",
      "- Accuracy: 0.9449\n",
      "- F1 score: 0.9480\n",
      "- Precision: 0.9014\n",
      "- Recall: 0.9997\n",
      "- Roc Auc Score: 0.9446\n",
      "----------------------------------\n",
      "Model performance for Test set\n",
      "- Accuracy: 0.8999\n",
      "- F1 score: 0.9070\n",
      "- Precision: 0.8324\n",
      "- Recall: 0.9961\n",
      "- Roc Auc Score: 0.9018\n",
      "===================================\n",
      "\n",
      "\n",
      "XGBClassifier\n",
      "Model performance for Training set\n",
      "- Accuracy: 0.9995\n",
      "- F1 score: 0.9995\n",
      "- Precision: 1.0000\n",
      "- Recall: 0.9991\n",
      "- Roc Auc Score: 0.9995\n",
      "----------------------------------\n",
      "Model performance for Test set\n",
      "- Accuracy: 0.9565\n",
      "- F1 score: 0.9549\n",
      "- Precision: 0.9708\n",
      "- Recall: 0.9396\n",
      "- Roc Auc Score: 0.9562\n",
      "===================================\n",
      "\n",
      "\n",
      "CatBoosting Classifier\n",
      "Model performance for Training set\n",
      "- Accuracy: 0.9866\n",
      "- F1 score: 0.9865\n",
      "- Precision: 0.9962\n",
      "- Recall: 0.9771\n",
      "- Roc Auc Score: 0.9867\n",
      "----------------------------------\n",
      "Model performance for Test set\n",
      "- Accuracy: 0.9452\n",
      "- F1 score: 0.9429\n",
      "- Precision: 0.9638\n",
      "- Recall: 0.9229\n",
      "- Roc Auc Score: 0.9448\n",
      "===================================\n",
      "\n",
      "\n",
      "AdaBoost Classifier\n",
      "Model performance for Training set\n",
      "- Accuracy: 0.8633\n",
      "- F1 score: 0.8613\n",
      "- Precision: 0.8784\n",
      "- Recall: 0.8448\n",
      "- Roc Auc Score: 0.8634\n",
      "----------------------------------\n",
      "Model performance for Test set\n",
      "- Accuracy: 0.8571\n",
      "- F1 score: 0.8511\n",
      "- Precision: 0.8688\n",
      "- Recall: 0.8342\n",
      "- Roc Auc Score: 0.8566\n",
      "===================================\n",
      "\n",
      "\n"
     ]
    }
   ],
   "source": [
    "base_report = evaluate_models(X=X_res, y=y_res, models=models)"
   ]
  },
  {
   "cell_type": "code",
   "execution_count": 40,
   "id": "40977abc",
   "metadata": {},
   "outputs": [
    {
     "data": {
      "text/html": [
       "<div>\n",
       "<style scoped>\n",
       "    .dataframe tbody tr th:only-of-type {\n",
       "        vertical-align: middle;\n",
       "    }\n",
       "\n",
       "    .dataframe tbody tr th {\n",
       "        vertical-align: top;\n",
       "    }\n",
       "\n",
       "    .dataframe thead th {\n",
       "        text-align: right;\n",
       "    }\n",
       "</style>\n",
       "<table border=\"1\" class=\"dataframe\">\n",
       "  <thead>\n",
       "    <tr style=\"text-align: right;\">\n",
       "      <th></th>\n",
       "      <th>Model Name</th>\n",
       "      <th>Accuracy</th>\n",
       "    </tr>\n",
       "  </thead>\n",
       "  <tbody>\n",
       "    <tr>\n",
       "      <th>0</th>\n",
       "      <td>Random Forest</td>\n",
       "      <td>0.971033</td>\n",
       "    </tr>\n",
       "    <tr>\n",
       "      <th>5</th>\n",
       "      <td>XGBClassifier</td>\n",
       "      <td>0.956549</td>\n",
       "    </tr>\n",
       "    <tr>\n",
       "      <th>6</th>\n",
       "      <td>CatBoosting Classifier</td>\n",
       "      <td>0.945214</td>\n",
       "    </tr>\n",
       "    <tr>\n",
       "      <th>1</th>\n",
       "      <td>Decision Tree</td>\n",
       "      <td>0.924433</td>\n",
       "    </tr>\n",
       "    <tr>\n",
       "      <th>2</th>\n",
       "      <td>Gradient Boosting</td>\n",
       "      <td>0.903652</td>\n",
       "    </tr>\n",
       "    <tr>\n",
       "      <th>4</th>\n",
       "      <td>K-Neighbors Classifier</td>\n",
       "      <td>0.899874</td>\n",
       "    </tr>\n",
       "    <tr>\n",
       "      <th>7</th>\n",
       "      <td>AdaBoost Classifier</td>\n",
       "      <td>0.857053</td>\n",
       "    </tr>\n",
       "    <tr>\n",
       "      <th>3</th>\n",
       "      <td>Logistic Regression</td>\n",
       "      <td>0.748741</td>\n",
       "    </tr>\n",
       "  </tbody>\n",
       "</table>\n",
       "</div>"
      ],
      "text/plain": [
       "               Model Name  Accuracy\n",
       "0           Random Forest  0.971033\n",
       "5           XGBClassifier  0.956549\n",
       "6  CatBoosting Classifier  0.945214\n",
       "1           Decision Tree  0.924433\n",
       "2       Gradient Boosting  0.903652\n",
       "4  K-Neighbors Classifier  0.899874\n",
       "7     AdaBoost Classifier  0.857053\n",
       "3     Logistic Regression  0.748741"
      ]
     },
     "execution_count": 40,
     "metadata": {},
     "output_type": "execute_result"
    }
   ],
   "source": [
    "base_report"
   ]
  },
  {
   "cell_type": "markdown",
   "id": "f3534db9",
   "metadata": {},
   "source": [
    "**Here we can use Random Forest , XGBoost Classifier, CatBoost Classifier for Hyper Parameter Tuning as they preform well with the base parameters.**"
   ]
  },
  {
   "cell_type": "code",
   "execution_count": 41,
   "id": "893c4b00",
   "metadata": {},
   "outputs": [],
   "source": [
    "# Initialize few parameter for Hyperparamter tuning\n",
    "rf_params = {\n",
    "    \"max_depth\": [5, 8, 15, None, 10],\n",
    "    \"max_features\": [5, 7, \"auto\", 8],\n",
    "    \"min_samples_split\": [2, 8, 15, 20],\n",
    "    \"n_estimators\": [100, 200, 500, 1000],\n",
    "}\n",
    "\n",
    "xgboost_params = {\n",
    "    \"learning_rate\": [0.1, 0.01],\n",
    "    \"max_depth\": [5, 8, 12, 20, 30],\n",
    "    \"n_estimators\": [100, 200, 300],\n",
    "    \"colsample_bytree\": [0.5, 0.8, 1, 0.3, 0.4],\n",
    "}\n",
    "\n",
    "cat_params = {\"learning_rate\": [0.1, 0.01], \"max_depth\": [5, 8, 12, 20, 30]}"
   ]
  },
  {
   "cell_type": "code",
   "execution_count": 42,
   "id": "a46028bd",
   "metadata": {},
   "outputs": [],
   "source": [
    "# Models list for Hyperparameter tuning\n",
    "randomcv_models = [\n",
    "    (\"RF\", RandomForestClassifier(), rf_params),\n",
    "    (\"XGBoost\", XGBClassifier(), xgboost_params),\n",
    "    (\"CatBoost\", CatBoostClassifier(verbose=False), cat_params),\n",
    "]"
   ]
  },
  {
   "cell_type": "markdown",
   "id": "c7f2b33a",
   "metadata": {},
   "source": [
    "**We can use RandomizedSearchCV to do the hyperparametric tuning which chooses the random combination of the different parameters and fits the model. It is used to reduce the computation since fitting to all the combinations of hyperparameters take longer and used high computation power.**"
   ]
  },
  {
   "cell_type": "code",
   "execution_count": 43,
   "id": "0dc8830b",
   "metadata": {},
   "outputs": [
    {
     "name": "stdout",
     "output_type": "stream",
     "text": [
      "Fitting 3 folds for each of 100 candidates, totalling 300 fits\n",
      "Fitting 3 folds for each of 100 candidates, totalling 300 fits\n",
      "Fitting 3 folds for each of 10 candidates, totalling 30 fits\n",
      "---------------- Best Params for RF -------------------\n",
      "{'n_estimators': 500, 'min_samples_split': 2, 'max_features': 7, 'max_depth': None}\n",
      "---------------- Best Params for XGBoost -------------------\n",
      "{'n_estimators': 300, 'max_depth': 30, 'learning_rate': 0.1, 'colsample_bytree': 0.8}\n",
      "---------------- Best Params for CatBoost -------------------\n",
      "{'max_depth': 12, 'learning_rate': 0.01}\n"
     ]
    }
   ],
   "source": [
    "from sklearn.model_selection import RandomizedSearchCV\n",
    "\n",
    "model_param = {}\n",
    "for name, model, params in randomcv_models:\n",
    "    random = RandomizedSearchCV(\n",
    "        estimator=model,\n",
    "        param_distributions=params,\n",
    "        n_iter=100,\n",
    "        cv=3,\n",
    "        verbose=2,\n",
    "        n_jobs=-1,\n",
    "    )\n",
    "    random.fit(X_res, y_res)\n",
    "    model_param[name] = random.best_params_\n",
    "\n",
    "for model_name in model_param:\n",
    "    print(f\"---------------- Best Params for {model_name} -------------------\")\n",
    "    print(model_param[model_name])"
   ]
  },
  {
   "cell_type": "markdown",
   "id": "8b047a58",
   "metadata": {},
   "source": [
    "**Above we can see the best parameters selected for models. It may change when you train because of the random selcetion of parameters by RandomizedSearchCV. But there will ot be much change in the metrics of the models.**"
   ]
  },
  {
   "cell_type": "markdown",
   "id": "9758d026",
   "metadata": {},
   "source": [
    "### Retraining the Model with best Parameters\n",
    "\n",
    "* We can retrain the models with the best parameters selected by the RandomizedSearchCV and check other metrics of the selected models"
   ]
  },
  {
   "cell_type": "code",
   "execution_count": 44,
   "id": "3103bce3",
   "metadata": {
    "scrolled": false
   },
   "outputs": [
    {
     "name": "stdout",
     "output_type": "stream",
     "text": [
      "Random Forest\n",
      "Model performance for Training set\n",
      "- Accuracy: 1.0000\n",
      "- F1 score: 1.0000\n",
      "- Precision: 1.0000\n",
      "- Recall: 1.0000\n",
      "- Roc Auc Score: 1.0000\n",
      "----------------------------------\n",
      "Model performance for Test set\n",
      "- Accuracy: 0.9691\n",
      "- F1 score: 0.9686\n",
      "- Precision: 0.9655\n",
      "- Recall: 0.9717\n",
      "- Roc Auc Score: 0.9692\n",
      "===================================\n",
      "\n",
      "\n",
      "XGBClassifier\n",
      "Model performance for Training set\n",
      "- Accuracy: 1.0000\n",
      "- F1 score: 1.0000\n",
      "- Precision: 1.0000\n",
      "- Recall: 1.0000\n",
      "- Roc Auc Score: 1.0000\n",
      "----------------------------------\n",
      "Model performance for Test set\n",
      "- Accuracy: 0.9710\n",
      "- F1 score: 0.9704\n",
      "- Precision: 0.9729\n",
      "- Recall: 0.9679\n",
      "- Roc Auc Score: 0.9710\n",
      "===================================\n",
      "\n",
      "\n",
      "CatBoosting Classifier\n",
      "Model performance for Training set\n",
      "- Accuracy: 1.0000\n",
      "- F1 score: 1.0000\n",
      "- Precision: 1.0000\n",
      "- Recall: 1.0000\n",
      "- Roc Auc Score: 1.0000\n",
      "----------------------------------\n",
      "Model performance for Test set\n",
      "- Accuracy: 0.9880\n",
      "- F1 score: 0.9879\n",
      "- Precision: 0.9810\n",
      "- Recall: 0.9949\n",
      "- Roc Auc Score: 0.9882\n",
      "===================================\n",
      "\n",
      "\n"
     ]
    }
   ],
   "source": [
    "from sklearn.metrics import roc_auc_score, roc_curve\n",
    "\n",
    "best_models = {\n",
    "    \"Random Forest\": RandomForestClassifier(**model_param[\"RF\"]),\n",
    "    \"XGBClassifier\": XGBClassifier(**model_param[\"XGBoost\"], n_jobs=-1),\n",
    "    \"CatBoosting Classifier\": CatBoostClassifier(\n",
    "        **model_param[\"CatBoost\"], verbose=False\n",
    "    ),\n",
    "}\n",
    "tuned_report = evaluate_models(X=X_res, y=y_res, models=best_models)"
   ]
  },
  {
   "cell_type": "code",
   "execution_count": 45,
   "id": "7ab4f3ff",
   "metadata": {},
   "outputs": [
    {
     "data": {
      "text/html": [
       "<div>\n",
       "<style scoped>\n",
       "    .dataframe tbody tr th:only-of-type {\n",
       "        vertical-align: middle;\n",
       "    }\n",
       "\n",
       "    .dataframe tbody tr th {\n",
       "        vertical-align: top;\n",
       "    }\n",
       "\n",
       "    .dataframe thead th {\n",
       "        text-align: right;\n",
       "    }\n",
       "</style>\n",
       "<table border=\"1\" class=\"dataframe\">\n",
       "  <thead>\n",
       "    <tr style=\"text-align: right;\">\n",
       "      <th></th>\n",
       "      <th>Model Name</th>\n",
       "      <th>Accuracy</th>\n",
       "    </tr>\n",
       "  </thead>\n",
       "  <tbody>\n",
       "    <tr>\n",
       "      <th>2</th>\n",
       "      <td>CatBoosting Classifier</td>\n",
       "      <td>0.988035</td>\n",
       "    </tr>\n",
       "    <tr>\n",
       "      <th>1</th>\n",
       "      <td>XGBClassifier</td>\n",
       "      <td>0.971033</td>\n",
       "    </tr>\n",
       "    <tr>\n",
       "      <th>0</th>\n",
       "      <td>Random Forest</td>\n",
       "      <td>0.969144</td>\n",
       "    </tr>\n",
       "  </tbody>\n",
       "</table>\n",
       "</div>"
      ],
      "text/plain": [
       "               Model Name  Accuracy\n",
       "2  CatBoosting Classifier  0.988035\n",
       "1           XGBClassifier  0.971033\n",
       "0           Random Forest  0.969144"
      ]
     },
     "execution_count": 45,
     "metadata": {},
     "output_type": "execute_result"
    }
   ],
   "source": [
    "tuned_report"
   ]
  },
  {
   "cell_type": "markdown",
   "id": "86ae9437",
   "metadata": {},
   "source": [
    "## Plot Roc Auc Curve\n",
    "\n",
    "**Now lets check the area under curve(AUC) of receiver operating characteristic(ROC) curve to justify the accuracy we have seen the the selected models.**"
   ]
  },
  {
   "cell_type": "code",
   "execution_count": 67,
   "id": "dc6a57f9",
   "metadata": {},
   "outputs": [
    {
     "data": {
      "image/png": "[encoded data removed]",
      "text/plain": [
       "<Figure size 640x480 with 1 Axes>"
      ]
     },
     "metadata": {},
     "output_type": "display_data"
    }
   ],
   "source": [
    "from sklearn.metrics import roc_auc_score, roc_curve\n",
    "\n",
    "plt.figure()\n",
    "\n",
    "# Add the models to the list that you want to view on the ROC plot\n",
    "auc_models = [\n",
    "    {\n",
    "        \"label\": \"Random Forest Classifier\",\n",
    "        \"model\": RandomForestClassifier(**model_param[\"RF\"]),\n",
    "        \"auc\": 0.9692,\n",
    "    },\n",
    "    {\n",
    "        \"label\": \"XGBoost Classifier\",\n",
    "        \"model\": XGBClassifier(**model_param[\"XGBoost\"]),\n",
    "        \"auc\": 0.9710,\n",
    "    },\n",
    "    {\n",
    "        \"label\": \"CatBoost Classifier\",\n",
    "        \"model\": CatBoostClassifier(**model_param[\"CatBoost\"], verbose=False),\n",
    "        \"auc\": 0.9882,\n",
    "    },\n",
    "]\n",
    "X_train, X_test, y_train, y_test = train_test_split(X, y, test_size=0.2, random_state=42)\n",
    "# create loop through all model\n",
    "for algo in auc_models:\n",
    "    model = algo[\"model\"]  # select the model\n",
    "    model.fit(X_train, y_train)  # train the model\n",
    "    # Compute False postive rate, and True positive rate\n",
    "    fpr, tpr, thresholds = roc_curve(y_test, model.predict_proba(X_test)[:, 1])\n",
    "    # Calculate Area under the curve to display on the plot\n",
    "    plt.plot(fpr, tpr, label=\"%s ROC (area = %0.2f)\" % (algo[\"label\"], algo[\"auc\"]))\n",
    "# Custom settings for the plot\n",
    "plt.plot([0, 1], [0, 1], \"r--\")\n",
    "plt.xlim([0.0, 1.0])\n",
    "plt.ylim([0.7, 1.05])\n",
    "plt.xlabel(\"1-Specificity(False Positive Rate)\")\n",
    "plt.ylabel(\"Sensitivity(True Positive Rate)\")\n",
    "plt.title(\"Receiver Operating Characteristic\")\n",
    "plt.legend(loc=\"lower right\")\n",
    "# plt.savefig(r\"./images/auc.png\")\n",
    "plt.show()  # Display"
   ]
  },
  {
   "cell_type": "markdown",
   "id": "9bc98424",
   "metadata": {},
   "source": [
    "### As Models have very high accuracy we can use cross validation score for further evaluation.\n",
    "\n",
    "Cross-validation is a statistical method used to estimate the accuracy of machine learning models. It is used to protect against overfitting in a predictive model, particularly in a case where the amount of data may be limited.\n",
    "\n",
    "Stratified kfold cross validation is an extension of regular kfold cross validation but specifically for classification problems where rather than the splits being completely random, the ratio between the target classes is the same in each fold as it is in the full dataset. Which preserves the distribution of target column in both train and test data."
   ]
  },
  {
   "cell_type": "markdown",
   "id": "204ad8c1",
   "metadata": {},
   "source": [
    "**Stratified K-fold Cross Validation Technique on 3 algorithm to know the exact Mean CV accuracy score**"
   ]
  },
  {
   "cell_type": "code",
   "execution_count": 52,
   "id": "0d91f186",
   "metadata": {},
   "outputs": [],
   "source": [
    "from sklearn.model_selection import cross_val_score, StratifiedKFold\n",
    "\n",
    "skfold = StratifiedKFold(n_splits=10, shuffle=True, random_state=42)"
   ]
  },
  {
   "cell_type": "code",
   "execution_count": 53,
   "id": "6b8ba299",
   "metadata": {},
   "outputs": [
    {
     "name": "stdout",
     "output_type": "stream",
     "text": [
      "CatBoost CV Mean Accuarcy Score is 86.29497159688617\n"
     ]
    }
   ],
   "source": [
    "cat_cv_result = cross_val_score(\n",
    "    CatBoostClassifier(**model_param[\"CatBoost\"], verbose=False),\n",
    "    X_test,\n",
    "    y_test,\n",
    "    cv=skfold,\n",
    "    scoring=\"accuracy\",\n",
    "    n_jobs=-1,\n",
    ")\n",
    "cat_cv = cat_cv_result.mean() * 100\n",
    "print(\"CatBoost CV Mean Accuarcy Score is {}\".format(cat_cv))"
   ]
  },
  {
   "cell_type": "code",
   "execution_count": 54,
   "id": "e950a4c6",
   "metadata": {},
   "outputs": [
    {
     "name": "stdout",
     "output_type": "stream",
     "text": [
      "XGB Classifier CV Mean Accuarcy Score is 86.08773406269722\n"
     ]
    }
   ],
   "source": [
    "xgb_cv_result = cross_val_score(\n",
    "    XGBClassifier(**model_param[\"XGBoost\"]),\n",
    "    X_test,\n",
    "    y_test,\n",
    "    cv=skfold,\n",
    "    scoring=\"accuracy\",\n",
    "    n_jobs=-1,\n",
    ")\n",
    "xgb_cv = xgb_cv_result.mean() * 100\n",
    "print(\"XGB Classifier CV Mean Accuarcy Score is {}\".format(xgb_cv))"
   ]
  },
  {
   "cell_type": "code",
   "execution_count": 55,
   "id": "b40066de",
   "metadata": {},
   "outputs": [
    {
     "name": "stdout",
     "output_type": "stream",
     "text": [
      "Random Forest Classifier CV Mean Accuarcy Score is 85.27351146644223\n"
     ]
    }
   ],
   "source": [
    "rf_cv_result = cross_val_score(\n",
    "    RandomForestClassifier(**model_param[\"RF\"]),\n",
    "    X_test,\n",
    "    y_test,\n",
    "    cv=skfold,\n",
    "    scoring=\"accuracy\",\n",
    "    n_jobs=-1,\n",
    ")\n",
    "rf_cv = rf_cv_result.mean() * 100\n",
    "print(\"Random Forest Classifier CV Mean Accuarcy Score is {}\".format(rf_cv))"
   ]
  },
  {
   "cell_type": "markdown",
   "id": "ea3ec5df",
   "metadata": {},
   "source": [
    "**Even from the cross validation we can see that CatBoost Classifier performs the best with the mentioned parameters. Now we can retrain the model with the best model selected**"
   ]
  },
  {
   "cell_type": "code",
   "execution_count": 56,
   "id": "398bb6cb",
   "metadata": {},
   "outputs": [
    {
     "name": "stdout",
     "output_type": "stream",
     "text": [
      "FINAL MODEL 'CATBOOST'\n",
      "Accuracy Score value: 0.9489\n",
      "              precision    recall  f1-score   support\n",
      "\n",
      "           0       0.94      1.00      0.97       787\n",
      "           1       0.98      0.75      0.85       191\n",
      "\n",
      "    accuracy                           0.95       978\n",
      "   macro avg       0.96      0.88      0.91       978\n",
      "weighted avg       0.95      0.95      0.95       978\n",
      "\n"
     ]
    }
   ],
   "source": [
    "best_model = CatBoostClassifier(**model_param[\"CatBoost\"], verbose=False)\n",
    "best_model = best_model.fit(X_train, y_train)\n",
    "y_pred = best_model.predict(X_test)\n",
    "score = accuracy_score(y_test, y_pred)\n",
    "cr = classification_report(y_test, y_pred)\n",
    "\n",
    "print(\"FINAL MODEL 'CATBOOST'\")\n",
    "print(\"Accuracy Score value: {:.4f}\".format(score))\n",
    "print(cr)"
   ]
  },
  {
   "cell_type": "code",
   "execution_count": 57,
   "id": "c233924f",
   "metadata": {},
   "outputs": [
    {
     "data": {
      "image/png": "[encoded data removed]",
      "text/plain": [
       "<Figure size 640x480 with 2 Axes>"
      ]
     },
     "metadata": {},
     "output_type": "display_data"
    }
   ],
   "source": [
    "from sklearn.metrics import ConfusionMatrixDisplay\n",
    "\n",
    "ConfusionMatrixDisplay.from_estimator(best_model, X_test, y_test);"
   ]
  },
  {
   "cell_type": "markdown",
   "id": "109cccb4",
   "metadata": {},
   "source": [
    "### Best Model is CatBoost Classifier with 94.89 % Accuracy and also performed well in Cross validation"
   ]
  },
  {
   "cell_type": "code",
   "execution_count": 58,
   "id": "23991173",
   "metadata": {},
   "outputs": [],
   "source": [
    "import pickle\n",
    "\n",
    "# Save the trained model as a pickle file.\n",
    "pickle.dump(best_model, open(\"holidaypackagemodel.pkl\", \"wb\"))"
   ]
  },
  {
   "cell_type": "code",
   "execution_count": null,
   "id": "bb101545",
   "metadata": {},
   "outputs": [],
   "source": []
  }
 ],
 "metadata": {
  "kernelspec": {
   "display_name": "Python 3 (ipykernel)",
   "language": "python",
   "name": "python3"
  },
  "language_info": {
   "codemirror_mode": {
    "name": "ipython",
    "version": 3
   },
   "file_extension": ".py",
   "mimetype": "text/x-python",
   "name": "python",
   "nbconvert_exporter": "python",
   "pygments_lexer": "ipython3",
   "version": "3.7.0"
  },
  "vscode": {
   "interpreter": {
    "hash": "6e0056b0d8d6e142b7ce7d74e16dfdf922dbb0f4299bed7705466a54f7277f59"
   }
  }
 },
 "nbformat": 4,
 "nbformat_minor": 5
}
